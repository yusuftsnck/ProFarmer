{
 "cells": [
  {
   "cell_type": "markdown",
   "metadata": {},
   "source": [
    "# Plant Disease Prediction"
   ]
  },
  {
   "cell_type": "markdown",
   "metadata": {
    "id": "BeB10ZMav-SW"
   },
   "source": [
    "## Dataset"
   ]
  },
  {
   "cell_type": "markdown",
   "metadata": {
    "id": "rPw7by-7Fs5M"
   },
   "source": [
    "Dataset Link: https://www.kaggle.com/datasets/rizwan123456789/potato-disease-leaf-datasetpld"
   ]
  },
  {
   "cell_type": "markdown",
   "metadata": {
    "id": "5vUbBvinu8zW"
   },
   "source": [
    "## Importing libraries"
   ]
  },
  {
   "cell_type": "code",
   "execution_count": 20,
   "metadata": {
    "id": "4JsejDm3uxTS"
   },
   "outputs": [],
   "source": [
    "import tensorflow as tf\n",
    "import matplotlib.pyplot as plt\n",
    "import pandas as pd\n",
    "import seaborn as sns"
   ]
  },
  {
   "cell_type": "markdown",
   "metadata": {
    "id": "i2w52yYrvTu9"
   },
   "source": [
    "## Data Preprocessing"
   ]
  },
  {
   "cell_type": "markdown",
   "metadata": {
    "id": "vU3NlcKCwlIZ"
   },
   "source": [
    "### Training Image preprocessing"
   ]
  },
  {
   "cell_type": "code",
   "execution_count": 21,
   "metadata": {
    "colab": {
     "base_uri": "https://localhost:8080/"
    },
    "id": "Kjoa0oUHvQAv",
    "outputId": "35053f0d-5fd0-4b98-cd8f-fa0a88a79e8f"
   },
   "outputs": [
    {
     "name": "stdout",
     "output_type": "stream",
     "text": [
      "Found 3251 files belonging to 3 classes.\n"
     ]
    }
   ],
   "source": [
    "training_set = tf.keras.utils.image_dataset_from_directory(\n",
    "    'train',\n",
    "    labels=\"inferred\",\n",
    "    label_mode=\"categorical\",\n",
    "    class_names=None,\n",
    "    color_mode=\"rgb\",\n",
    "    batch_size=32,\n",
    "    image_size=(128, 128),\n",
    "    shuffle=True,\n",
    "    seed=None,\n",
    "    validation_split=None,\n",
    "    subset=None,\n",
    "    interpolation=\"bilinear\",\n",
    "    follow_links=False,\n",
    "    crop_to_aspect_ratio=False\n",
    ")"
   ]
  },
  {
   "cell_type": "markdown",
   "metadata": {
    "id": "nK9Ev76o0mdJ"
   },
   "source": [
    "### Validation Image Preprocessing"
   ]
  },
  {
   "cell_type": "code",
   "execution_count": 22,
   "metadata": {
    "colab": {
     "base_uri": "https://localhost:8080/"
    },
    "id": "Tocls4IowkNB",
    "outputId": "3b0d8b3d-8552-4e0f-c1f2-7c9f7e28a944"
   },
   "outputs": [
    {
     "name": "stdout",
     "output_type": "stream",
     "text": [
      "Found 416 files belonging to 3 classes.\n"
     ]
    }
   ],
   "source": [
    "validation_set = tf.keras.utils.image_dataset_from_directory(\n",
    "    'valid',\n",
    "    labels=\"inferred\",\n",
    "    label_mode=\"categorical\",\n",
    "    class_names=None,\n",
    "    color_mode=\"rgb\",\n",
    "    batch_size=32,\n",
    "    image_size=(128, 128),\n",
    "    shuffle=True,\n",
    "    seed=None,\n",
    "    validation_split=None,\n",
    "    subset=None,\n",
    "    interpolation=\"bilinear\",\n",
    "    follow_links=False,\n",
    "    crop_to_aspect_ratio=False\n",
    ")"
   ]
  },
  {
   "cell_type": "markdown",
   "metadata": {},
   "source": [
    "#### To avoid Overshooting Loss function\n",
    "1. Choose small learning rate default 0.001 here we have taken 0.0001\n",
    "2. There may be chance of underfitting so increase number of neuron\n",
    "3. Add more Convolutional Layer to extract more feature from images there may be possibilty that model unable to capture relevant feature or model is confusing due to lack of feature so feed with more feature"
   ]
  },
  {
   "cell_type": "markdown",
   "metadata": {
    "id": "OQ_TcbD7r2Cw"
   },
   "source": [
    "## Building Model"
   ]
  },
  {
   "cell_type": "code",
   "execution_count": 23,
   "metadata": {
    "id": "cUMiJrPvsBTU"
   },
   "outputs": [],
   "source": [
    "cnn = tf.keras.models.Sequential()"
   ]
  },
  {
   "cell_type": "markdown",
   "metadata": {
    "id": "mgFWYq7ssLkV"
   },
   "source": [
    "### Building Convolution Layer"
   ]
  },
  {
   "cell_type": "code",
   "execution_count": 24,
   "metadata": {
    "id": "LoaODWuZrHFg"
   },
   "outputs": [],
   "source": [
    "cnn.add(tf.keras.layers.Conv2D(filters=32,kernel_size=3,padding='same',activation='relu',input_shape=[128,128,3]))\n",
    "cnn.add(tf.keras.layers.Conv2D(filters=32,kernel_size=3,activation='relu'))\n",
    "cnn.add(tf.keras.layers.MaxPool2D(pool_size=2,strides=2))"
   ]
  },
  {
   "cell_type": "code",
   "execution_count": 25,
   "metadata": {
    "id": "5-potKmKsOr2"
   },
   "outputs": [],
   "source": [
    "cnn.add(tf.keras.layers.Conv2D(filters=64,kernel_size=3,padding='same',activation='relu'))\n",
    "cnn.add(tf.keras.layers.Conv2D(filters=64,kernel_size=3,activation='relu'))\n",
    "cnn.add(tf.keras.layers.MaxPool2D(pool_size=2,strides=2))"
   ]
  },
  {
   "cell_type": "code",
   "execution_count": 26,
   "metadata": {},
   "outputs": [],
   "source": [
    "cnn.add(tf.keras.layers.Conv2D(filters=128,kernel_size=3,padding='same',activation='relu'))\n",
    "cnn.add(tf.keras.layers.Conv2D(filters=128,kernel_size=3,activation='relu'))\n",
    "cnn.add(tf.keras.layers.MaxPool2D(pool_size=2,strides=2))"
   ]
  },
  {
   "cell_type": "code",
   "execution_count": 27,
   "metadata": {},
   "outputs": [],
   "source": [
    "cnn.add(tf.keras.layers.Conv2D(filters=256,kernel_size=3,padding='same',activation='relu'))\n",
    "cnn.add(tf.keras.layers.Conv2D(filters=256,kernel_size=3,activation='relu'))\n",
    "cnn.add(tf.keras.layers.MaxPool2D(pool_size=2,strides=2))"
   ]
  },
  {
   "cell_type": "code",
   "execution_count": 28,
   "metadata": {},
   "outputs": [],
   "source": [
    "cnn.add(tf.keras.layers.Conv2D(filters=512,kernel_size=3,padding='same',activation='relu'))\n",
    "cnn.add(tf.keras.layers.Conv2D(filters=512,kernel_size=3,activation='relu'))\n",
    "cnn.add(tf.keras.layers.MaxPool2D(pool_size=2,strides=2))"
   ]
  },
  {
   "cell_type": "code",
   "execution_count": 29,
   "metadata": {},
   "outputs": [],
   "source": [
    "cnn.add(tf.keras.layers.Dropout(0.25))"
   ]
  },
  {
   "cell_type": "code",
   "execution_count": 30,
   "metadata": {
    "id": "NPZ2NGthuTv5"
   },
   "outputs": [],
   "source": [
    "cnn.add(tf.keras.layers.Flatten())"
   ]
  },
  {
   "cell_type": "code",
   "execution_count": 31,
   "metadata": {
    "id": "demjWjcWuc3q"
   },
   "outputs": [],
   "source": [
    "cnn.add(tf.keras.layers.Dense(units=1500,activation='relu'))"
   ]
  },
  {
   "cell_type": "code",
   "execution_count": 32,
   "metadata": {
    "id": "2onuZO6YuBF3"
   },
   "outputs": [],
   "source": [
    "cnn.add(tf.keras.layers.Dropout(0.4)) #To avoid overfitting"
   ]
  },
  {
   "cell_type": "code",
   "execution_count": 33,
   "metadata": {
    "id": "toAqflkCuwoS"
   },
   "outputs": [],
   "source": [
    "#Output Layer\n",
    "cnn.add(tf.keras.layers.Dense(units=3,activation='softmax'))"
   ]
  },
  {
   "cell_type": "markdown",
   "metadata": {
    "id": "sYYdAFZDvt1P"
   },
   "source": [
    "### Compiling and Training Phase"
   ]
  },
  {
   "cell_type": "code",
   "execution_count": 34,
   "metadata": {
    "id": "yAcyiEfVvVzw"
   },
   "outputs": [],
   "source": [
    "cnn.compile(optimizer=tf.keras.optimizers.legacy.Adam(\n",
    "    learning_rate=0.0001),loss='categorical_crossentropy',metrics=['accuracy'])"
   ]
  },
  {
   "cell_type": "code",
   "execution_count": 35,
   "metadata": {
    "colab": {
     "base_uri": "https://localhost:8080/"
    },
    "id": "X0MROJsdlC5Z",
    "outputId": "59099315-950c-4546-d62d-626f4ca3b80d"
   },
   "outputs": [
    {
     "name": "stdout",
     "output_type": "stream",
     "text": [
      "Model: \"sequential_1\"\n",
      "_________________________________________________________________\n",
      " Layer (type)                Output Shape              Param #   \n",
      "=================================================================\n",
      " conv2d_10 (Conv2D)          (None, 128, 128, 32)      896       \n",
      "                                                                 \n",
      " conv2d_11 (Conv2D)          (None, 126, 126, 32)      9248      \n",
      "                                                                 \n",
      " max_pooling2d_5 (MaxPooling  (None, 63, 63, 32)       0         \n",
      " 2D)                                                             \n",
      "                                                                 \n",
      " conv2d_12 (Conv2D)          (None, 63, 63, 64)        18496     \n",
      "                                                                 \n",
      " conv2d_13 (Conv2D)          (None, 61, 61, 64)        36928     \n",
      "                                                                 \n",
      " max_pooling2d_6 (MaxPooling  (None, 30, 30, 64)       0         \n",
      " 2D)                                                             \n",
      "                                                                 \n",
      " conv2d_14 (Conv2D)          (None, 30, 30, 128)       73856     \n",
      "                                                                 \n",
      " conv2d_15 (Conv2D)          (None, 28, 28, 128)       147584    \n",
      "                                                                 \n",
      " max_pooling2d_7 (MaxPooling  (None, 14, 14, 128)      0         \n",
      " 2D)                                                             \n",
      "                                                                 \n",
      " conv2d_16 (Conv2D)          (None, 14, 14, 256)       295168    \n",
      "                                                                 \n",
      " conv2d_17 (Conv2D)          (None, 12, 12, 256)       590080    \n",
      "                                                                 \n",
      " max_pooling2d_8 (MaxPooling  (None, 6, 6, 256)        0         \n",
      " 2D)                                                             \n",
      "                                                                 \n",
      " conv2d_18 (Conv2D)          (None, 6, 6, 512)         1180160   \n",
      "                                                                 \n",
      " conv2d_19 (Conv2D)          (None, 4, 4, 512)         2359808   \n",
      "                                                                 \n",
      " max_pooling2d_9 (MaxPooling  (None, 2, 2, 512)        0         \n",
      " 2D)                                                             \n",
      "                                                                 \n",
      " dropout_2 (Dropout)         (None, 2, 2, 512)         0         \n",
      "                                                                 \n",
      " flatten_1 (Flatten)         (None, 2048)              0         \n",
      "                                                                 \n",
      " dense_2 (Dense)             (None, 1500)              3073500   \n",
      "                                                                 \n",
      " dropout_3 (Dropout)         (None, 1500)              0         \n",
      "                                                                 \n",
      " dense_3 (Dense)             (None, 3)                 4503      \n",
      "                                                                 \n",
      "=================================================================\n",
      "Total params: 7,790,227\n",
      "Trainable params: 7,790,227\n",
      "Non-trainable params: 0\n",
      "_________________________________________________________________\n"
     ]
    }
   ],
   "source": [
    "cnn.summary()"
   ]
  },
  {
   "cell_type": "code",
   "execution_count": 36,
   "metadata": {
    "colab": {
     "base_uri": "https://localhost:8080/"
    },
    "id": "K3W4dNUrvxIw",
    "outputId": "c4d220dc-40d6-438e-b940-751b3e85b037"
   },
   "outputs": [
    {
     "name": "stdout",
     "output_type": "stream",
     "text": [
      "Epoch 1/40\n",
      "102/102 [==============================] - 179s 2s/step - loss: 1.0428 - accuracy: 0.5020 - val_loss: 0.7937 - val_accuracy: 0.6587\n",
      "Epoch 2/40\n",
      "102/102 [==============================] - 152s 1s/step - loss: 0.7435 - accuracy: 0.6949 - val_loss: 0.6275 - val_accuracy: 0.7091\n",
      "Epoch 3/40\n",
      "102/102 [==============================] - 151s 1s/step - loss: 0.5009 - accuracy: 0.8130 - val_loss: 0.3877 - val_accuracy: 0.8365\n",
      "Epoch 4/40\n",
      "102/102 [==============================] - 150s 1s/step - loss: 0.3838 - accuracy: 0.8542 - val_loss: 0.2694 - val_accuracy: 0.9062\n",
      "Epoch 5/40\n",
      "102/102 [==============================] - 151s 1s/step - loss: 0.2894 - accuracy: 0.8890 - val_loss: 0.2370 - val_accuracy: 0.9159\n",
      "Epoch 6/40\n",
      "102/102 [==============================] - 153s 2s/step - loss: 0.2421 - accuracy: 0.9216 - val_loss: 0.2645 - val_accuracy: 0.8870\n",
      "Epoch 7/40\n",
      "102/102 [==============================] - 151s 1s/step - loss: 0.2040 - accuracy: 0.9271 - val_loss: 0.2008 - val_accuracy: 0.9351\n",
      "Epoch 8/40\n",
      "102/102 [==============================] - 152s 1s/step - loss: 0.1492 - accuracy: 0.9462 - val_loss: 0.1777 - val_accuracy: 0.9279\n",
      "Epoch 9/40\n",
      "102/102 [==============================] - 150s 1s/step - loss: 0.1190 - accuracy: 0.9591 - val_loss: 0.2029 - val_accuracy: 0.9327\n",
      "Epoch 10/40\n",
      "102/102 [==============================] - 151s 1s/step - loss: 0.1040 - accuracy: 0.9634 - val_loss: 0.1819 - val_accuracy: 0.9399\n",
      "Epoch 11/40\n",
      "102/102 [==============================] - 151s 1s/step - loss: 0.1076 - accuracy: 0.9619 - val_loss: 0.2190 - val_accuracy: 0.9159\n",
      "Epoch 12/40\n",
      "102/102 [==============================] - 151s 1s/step - loss: 0.0927 - accuracy: 0.9705 - val_loss: 0.1807 - val_accuracy: 0.9399\n",
      "Epoch 13/40\n",
      "102/102 [==============================] - 150s 1s/step - loss: 0.0687 - accuracy: 0.9769 - val_loss: 0.1954 - val_accuracy: 0.9375\n",
      "Epoch 14/40\n",
      "102/102 [==============================] - 154s 2s/step - loss: 0.0651 - accuracy: 0.9788 - val_loss: 0.1830 - val_accuracy: 0.9399\n",
      "Epoch 15/40\n",
      "102/102 [==============================] - 151s 1s/step - loss: 0.0400 - accuracy: 0.9855 - val_loss: 0.1759 - val_accuracy: 0.9495\n",
      "Epoch 16/40\n",
      "102/102 [==============================] - 157s 2s/step - loss: 0.0436 - accuracy: 0.9834 - val_loss: 0.1695 - val_accuracy: 0.9447\n",
      "Epoch 17/40\n",
      "102/102 [==============================] - 154s 2s/step - loss: 0.0503 - accuracy: 0.9797 - val_loss: 0.2207 - val_accuracy: 0.9399\n",
      "Epoch 18/40\n",
      "102/102 [==============================] - 152s 1s/step - loss: 0.0911 - accuracy: 0.9677 - val_loss: 0.3144 - val_accuracy: 0.9135\n",
      "Epoch 19/40\n",
      "102/102 [==============================] - 153s 1s/step - loss: 0.0441 - accuracy: 0.9846 - val_loss: 0.1907 - val_accuracy: 0.9567\n",
      "Epoch 20/40\n",
      "102/102 [==============================] - 152s 1s/step - loss: 0.0337 - accuracy: 0.9874 - val_loss: 0.2628 - val_accuracy: 0.9351\n",
      "Epoch 21/40\n",
      "102/102 [==============================] - 151s 1s/step - loss: 0.0305 - accuracy: 0.9914 - val_loss: 0.2207 - val_accuracy: 0.9399\n",
      "Epoch 22/40\n",
      "102/102 [==============================] - 150s 1s/step - loss: 0.0341 - accuracy: 0.9898 - val_loss: 0.2580 - val_accuracy: 0.9351\n",
      "Epoch 23/40\n",
      "102/102 [==============================] - 150s 1s/step - loss: 0.0298 - accuracy: 0.9920 - val_loss: 0.4145 - val_accuracy: 0.9062\n",
      "Epoch 24/40\n",
      "102/102 [==============================] - 151s 1s/step - loss: 0.0195 - accuracy: 0.9935 - val_loss: 0.2263 - val_accuracy: 0.9495\n",
      "Epoch 25/40\n",
      "102/102 [==============================] - 151s 1s/step - loss: 0.0100 - accuracy: 0.9960 - val_loss: 0.1712 - val_accuracy: 0.9447\n",
      "Epoch 26/40\n",
      "102/102 [==============================] - 150s 1s/step - loss: 0.0658 - accuracy: 0.9779 - val_loss: 0.1716 - val_accuracy: 0.9471\n",
      "Epoch 27/40\n",
      "102/102 [==============================] - 151s 1s/step - loss: 0.0333 - accuracy: 0.9898 - val_loss: 0.1757 - val_accuracy: 0.9495\n",
      "Epoch 28/40\n",
      "102/102 [==============================] - 150s 1s/step - loss: 0.0210 - accuracy: 0.9935 - val_loss: 0.2922 - val_accuracy: 0.9471\n",
      "Epoch 29/40\n",
      "102/102 [==============================] - 149s 1s/step - loss: 0.0345 - accuracy: 0.9914 - val_loss: 0.2531 - val_accuracy: 0.9351\n",
      "Epoch 30/40\n",
      "102/102 [==============================] - 151s 1s/step - loss: 0.0064 - accuracy: 0.9991 - val_loss: 0.2335 - val_accuracy: 0.9447\n",
      "Epoch 31/40\n",
      "102/102 [==============================] - 152s 1s/step - loss: 0.0020 - accuracy: 1.0000 - val_loss: 0.2484 - val_accuracy: 0.9591\n",
      "Epoch 32/40\n",
      "102/102 [==============================] - 153s 1s/step - loss: 2.9162e-04 - accuracy: 1.0000 - val_loss: 0.2410 - val_accuracy: 0.9567\n",
      "Epoch 33/40\n",
      "102/102 [==============================] - 150s 1s/step - loss: 1.1811e-04 - accuracy: 1.0000 - val_loss: 0.2389 - val_accuracy: 0.9567\n",
      "Epoch 34/40\n",
      "102/102 [==============================] - 147s 1s/step - loss: 6.5494e-05 - accuracy: 1.0000 - val_loss: 0.2470 - val_accuracy: 0.9543\n",
      "Epoch 35/40\n",
      "102/102 [==============================] - 147s 1s/step - loss: 7.8835e-05 - accuracy: 1.0000 - val_loss: 0.2326 - val_accuracy: 0.9615\n",
      "Epoch 36/40\n",
      "102/102 [==============================] - 146s 1s/step - loss: 5.0678e-05 - accuracy: 1.0000 - val_loss: 0.2386 - val_accuracy: 0.9591\n",
      "Epoch 37/40\n",
      "102/102 [==============================] - 146s 1s/step - loss: 3.7484e-05 - accuracy: 1.0000 - val_loss: 0.2457 - val_accuracy: 0.9591\n",
      "Epoch 38/40\n",
      "102/102 [==============================] - 148s 1s/step - loss: 4.2230e-05 - accuracy: 1.0000 - val_loss: 0.2444 - val_accuracy: 0.9543\n",
      "Epoch 39/40\n",
      "102/102 [==============================] - 147s 1s/step - loss: 4.5291e-05 - accuracy: 1.0000 - val_loss: 0.2421 - val_accuracy: 0.9615\n",
      "Epoch 40/40\n",
      "102/102 [==============================] - 150s 1s/step - loss: 2.8231e-05 - accuracy: 1.0000 - val_loss: 0.2507 - val_accuracy: 0.9591\n"
     ]
    }
   ],
   "source": [
    "training_history = cnn.fit(x=training_set,validation_data=validation_set,epochs=40)"
   ]
  },
  {
   "cell_type": "code",
   "execution_count": null,
   "metadata": {},
   "outputs": [],
   "source": []
  },
  {
   "cell_type": "markdown",
   "metadata": {
    "id": "19E3mwj1phoW"
   },
   "source": [
    "## Evaluating Model"
   ]
  },
  {
   "cell_type": "code",
   "execution_count": 37,
   "metadata": {
    "colab": {
     "base_uri": "https://localhost:8080/"
    },
    "id": "iY6o3uxjpgl5",
    "outputId": "372a2b25-5cdd-47c0-da77-1e9a5ee84f6c"
   },
   "outputs": [
    {
     "name": "stdout",
     "output_type": "stream",
     "text": [
      "102/102 [==============================] - 33s 321ms/step - loss: 8.3484e-06 - accuracy: 1.0000\n",
      "Training accuracy: 1.0\n"
     ]
    }
   ],
   "source": [
    "#Training set Accuracy\n",
    "train_loss, train_acc = cnn.evaluate(training_set)\n",
    "print('Training accuracy:', train_acc)"
   ]
  },
  {
   "cell_type": "code",
   "execution_count": 38,
   "metadata": {
    "colab": {
     "base_uri": "https://localhost:8080/"
    },
    "id": "5SaQgd7bpgwl",
    "outputId": "0e82ce04-bdf8-4b31-bc00-cbb7198df7e7"
   },
   "outputs": [
    {
     "name": "stdout",
     "output_type": "stream",
     "text": [
      "13/13 [==============================] - 4s 305ms/step - loss: 0.2507 - accuracy: 0.9591\n",
      "Validation accuracy: 0.9591346383094788\n"
     ]
    }
   ],
   "source": [
    "#Validation set Accuracy\n",
    "val_loss, val_acc = cnn.evaluate(validation_set)\n",
    "print('Validation accuracy:', val_acc)"
   ]
  },
  {
   "cell_type": "markdown",
   "metadata": {
    "id": "Qxp0xsjVBGec"
   },
   "source": [
    "### Saving Model"
   ]
  },
  {
   "cell_type": "code",
   "execution_count": 39,
   "metadata": {
    "id": "EEUrBzCrxKt_"
   },
   "outputs": [],
   "source": [
    "cnn.save('model.keras')"
   ]
  },
  {
   "cell_type": "code",
   "execution_count": null,
   "metadata": {},
   "outputs": [],
   "source": []
  },
  {
   "cell_type": "code",
   "execution_count": null,
   "metadata": {},
   "outputs": [],
   "source": []
  },
  {
   "cell_type": "code",
   "execution_count": 40,
   "metadata": {
    "colab": {
     "base_uri": "https://localhost:8080/"
    },
    "id": "BM-sILNMBwh1",
    "outputId": "3d1eb8a8-2742-4b1b-f8f3-10c1f0803975"
   },
   "outputs": [
    {
     "data": {
      "text/plain": [
       "{'loss': [1.0428194999694824,\n",
       "  0.7435202598571777,\n",
       "  0.5008904337882996,\n",
       "  0.38377755880355835,\n",
       "  0.2894076406955719,\n",
       "  0.24207262694835663,\n",
       "  0.204027459025383,\n",
       "  0.14921879768371582,\n",
       "  0.11898382008075714,\n",
       "  0.10404360294342041,\n",
       "  0.10760096460580826,\n",
       "  0.09269348531961441,\n",
       "  0.06866295635700226,\n",
       "  0.0651177391409874,\n",
       "  0.03997866064310074,\n",
       "  0.04360073432326317,\n",
       "  0.05029179900884628,\n",
       "  0.0911383107304573,\n",
       "  0.0440807081758976,\n",
       "  0.03374915570020676,\n",
       "  0.03051004745066166,\n",
       "  0.034087181091308594,\n",
       "  0.02975783497095108,\n",
       "  0.019534749910235405,\n",
       "  0.009975524619221687,\n",
       "  0.06582895666360855,\n",
       "  0.03326743468642235,\n",
       "  0.021025849506258965,\n",
       "  0.03452836722135544,\n",
       "  0.006395997013896704,\n",
       "  0.0019536151085048914,\n",
       "  0.000291615491732955,\n",
       "  0.00011810980504378676,\n",
       "  6.549408135470003e-05,\n",
       "  7.883548823883757e-05,\n",
       "  5.0678128900472075e-05,\n",
       "  3.7483951018657535e-05,\n",
       "  4.2229879909427837e-05,\n",
       "  4.529069337877445e-05,\n",
       "  2.8230973839526996e-05],\n",
       " 'accuracy': [0.5019993782043457,\n",
       "  0.6948631405830383,\n",
       "  0.812980592250824,\n",
       "  0.854198694229126,\n",
       "  0.8889572620391846,\n",
       "  0.9215626120567322,\n",
       "  0.927099347114563,\n",
       "  0.9461703896522522,\n",
       "  0.9590895175933838,\n",
       "  0.963395893573761,\n",
       "  0.9618579149246216,\n",
       "  0.9704706072807312,\n",
       "  0.9769302010536194,\n",
       "  0.9787757396697998,\n",
       "  0.985542893409729,\n",
       "  0.9833897352218628,\n",
       "  0.9796985387802124,\n",
       "  0.9677022695541382,\n",
       "  0.9846200942993164,\n",
       "  0.9873884916305542,\n",
       "  0.9913872480392456,\n",
       "  0.9898492693901062,\n",
       "  0.9920024871826172,\n",
       "  0.9935404658317566,\n",
       "  0.9960012435913086,\n",
       "  0.9778529405593872,\n",
       "  0.9898492693901062,\n",
       "  0.9935404658317566,\n",
       "  0.9913872480392456,\n",
       "  0.9990772008895874,\n",
       "  1.0,\n",
       "  1.0,\n",
       "  1.0,\n",
       "  1.0,\n",
       "  1.0,\n",
       "  1.0,\n",
       "  1.0,\n",
       "  1.0,\n",
       "  1.0,\n",
       "  1.0],\n",
       " 'val_loss': [0.7936648726463318,\n",
       "  0.6274693608283997,\n",
       "  0.3876597285270691,\n",
       "  0.26935088634490967,\n",
       "  0.23698295652866364,\n",
       "  0.264512836933136,\n",
       "  0.20078131556510925,\n",
       "  0.17772935330867767,\n",
       "  0.2029476910829544,\n",
       "  0.18190568685531616,\n",
       "  0.21901434659957886,\n",
       "  0.18067553639411926,\n",
       "  0.19538068771362305,\n",
       "  0.18302151560783386,\n",
       "  0.17593476176261902,\n",
       "  0.16951070725917816,\n",
       "  0.22070440649986267,\n",
       "  0.3143753707408905,\n",
       "  0.19067217409610748,\n",
       "  0.262758731842041,\n",
       "  0.22065497934818268,\n",
       "  0.25803878903388977,\n",
       "  0.4144998788833618,\n",
       "  0.22630082070827484,\n",
       "  0.17120298743247986,\n",
       "  0.17155124247074127,\n",
       "  0.17574664950370789,\n",
       "  0.292168527841568,\n",
       "  0.2531430125236511,\n",
       "  0.23354119062423706,\n",
       "  0.24836990237236023,\n",
       "  0.2410111129283905,\n",
       "  0.23891432583332062,\n",
       "  0.24696019291877747,\n",
       "  0.23257514834403992,\n",
       "  0.23863282799720764,\n",
       "  0.24574702978134155,\n",
       "  0.2444058507680893,\n",
       "  0.24214845895767212,\n",
       "  0.2507376968860626],\n",
       " 'val_accuracy': [0.6586538553237915,\n",
       "  0.7091346383094788,\n",
       "  0.8365384340286255,\n",
       "  0.90625,\n",
       "  0.9158653616905212,\n",
       "  0.8870192170143127,\n",
       "  0.9350961446762085,\n",
       "  0.9278846383094788,\n",
       "  0.932692289352417,\n",
       "  0.9399038553237915,\n",
       "  0.9158653616905212,\n",
       "  0.9399038553237915,\n",
       "  0.9375,\n",
       "  0.9399038553237915,\n",
       "  0.9495192170143127,\n",
       "  0.9447115659713745,\n",
       "  0.9399038553237915,\n",
       "  0.9134615659713745,\n",
       "  0.9567307829856873,\n",
       "  0.9350961446762085,\n",
       "  0.9399038553237915,\n",
       "  0.9350961446762085,\n",
       "  0.90625,\n",
       "  0.9495192170143127,\n",
       "  0.9447115659713745,\n",
       "  0.9471153616905212,\n",
       "  0.9495192170143127,\n",
       "  0.9471153616905212,\n",
       "  0.9350961446762085,\n",
       "  0.9447115659713745,\n",
       "  0.9591346383094788,\n",
       "  0.9567307829856873,\n",
       "  0.9567307829856873,\n",
       "  0.9543269276618958,\n",
       "  0.9615384340286255,\n",
       "  0.9591346383094788,\n",
       "  0.9591346383094788,\n",
       "  0.9543269276618958,\n",
       "  0.9615384340286255,\n",
       "  0.9591346383094788]}"
      ]
     },
     "execution_count": 40,
     "metadata": {},
     "output_type": "execute_result"
    }
   ],
   "source": [
    "training_history.history #Return Dictionary of history"
   ]
  },
  {
   "cell_type": "code",
   "execution_count": 41,
   "metadata": {
    "id": "GdF3Ig4ZBU9V"
   },
   "outputs": [],
   "source": [
    "#Recording History in json\n",
    "import json\n",
    "with open('training_hist.json','w') as f:\n",
    "  json.dump(training_history.history,f)"
   ]
  },
  {
   "cell_type": "code",
   "execution_count": 42,
   "metadata": {
    "colab": {
     "base_uri": "https://localhost:8080/"
    },
    "id": "w8PnAYbuCNhu",
    "outputId": "665cd52d-4777-4e7e-9c04-cc7716c5fb62"
   },
   "outputs": [
    {
     "name": "stdout",
     "output_type": "stream",
     "text": [
      "dict_keys(['loss', 'accuracy', 'val_loss', 'val_accuracy'])\n"
     ]
    }
   ],
   "source": [
    "print(training_history.history.keys())"
   ]
  },
  {
   "cell_type": "markdown",
   "metadata": {
    "id": "qNIMPXKFEZ5B"
   },
   "source": [
    "## Accuracy Visualization"
   ]
  },
  {
   "cell_type": "code",
   "execution_count": 43,
   "metadata": {
    "colab": {
     "base_uri": "https://localhost:8080/",
     "height": 295
    },
    "id": "gfKdieuJCt3m",
    "outputId": "00c39bea-d59d-48bd-a9bb-f819e1313252"
   },
   "outputs": [
    {
     "data": {
      "image/png": "[encoded data removed]",
      "text/plain": [
       "<Figure size 640x480 with 1 Axes>"
      ]
     },
     "metadata": {},
     "output_type": "display_data"
    }
   ],
   "source": [
    "epochs = [i for i in range(1,41)]\n",
    "plt.plot(epochs,training_history.history['accuracy'],color='red',label='Training Accuracy')\n",
    "plt.plot(epochs,training_history.history['val_accuracy'],color='blue',label='Validation Accuracy')\n",
    "plt.xlabel('No. of Epochs')\n",
    "plt.title('Visualization of Accuracy Result')\n",
    "plt.legend()\n",
    "plt.show()"
   ]
  },
  {
   "cell_type": "code",
   "execution_count": 44,
   "metadata": {
    "id": "MmHXzT0PAiOn"
   },
   "outputs": [],
   "source": [
    "cnn.save('model.h5')"
   ]
  }
 ],
 "metadata": {
  "colab": {
   "provenance": []
  },
  "kernelspec": {
   "display_name": "Python 3",
   "language": "python",
   "name": "python3"
  },
  "language_info": {
   "codemirror_mode": {
    "name": "ipython",
    "version": 3
   },
   "file_extension": ".py",
   "mimetype": "text/x-python",
   "name": "python",
   "nbconvert_exporter": "python",
   "pygments_lexer": "ipython3",
   "version": "3.10.11"
  }
 },
 "nbformat": 4,
 "nbformat_minor": 4
}
